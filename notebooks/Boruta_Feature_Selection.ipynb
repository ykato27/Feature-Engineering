{
 "cells": [
  {
   "cell_type": "markdown",
   "metadata": {},
   "source": [
    "## Borutaを使用した変数選択\n",
    "4ステップの手順を踏んでいる。\n",
    "\n",
    "1. 判別に寄与しないはずの偽の特徴量を作成。\n",
    "2. 偽の特徴量と一緒にランダムフォレストを訓練。\n",
    "3. 各特徴量の重要度と偽の特徴量の特徴量を比較。\n",
    "4. 複数回比較し検定を行うことで、本当に重要な特徴量のみを選択。"
   ]
  },
  {
   "cell_type": "code",
   "execution_count": 1,
   "metadata": {},
   "outputs": [],
   "source": [
    "%load_ext lab_black"
   ]
  },
  {
   "cell_type": "code",
   "execution_count": 2,
   "metadata": {},
   "outputs": [],
   "source": [
    "import numpy as np\n",
    "import pandas as pd\n",
    "from boruta import BorutaPy\n",
    "from sklearn.datasets import load_boston\n",
    "from sklearn.ensemble import RandomForestRegressor\n",
    "# スコア計算のためのライブラリ\n",
    "from sklearn.metrics import mean_absolute_error, r2_score\n",
    "from sklearn.model_selection import train_test_split"
   ]
  },
  {
   "cell_type": "code",
   "execution_count": 3,
   "metadata": {},
   "outputs": [],
   "source": [
    "# ボストン住宅の価格のデータセットを読み込む\n",
    "boston = load_boston()\n",
    "X = pd.DataFrame(boston.data, columns=boston.feature_names)\n",
    "y = pd.Series(boston.target, name=\"target\")\n",
    "\n",
    "# 乱数シード\n",
    "RANDOM_STATE = 3\n",
    "\n",
    "# 訓練データとテストデータに分割する\n",
    "X_train, X_test, y_train, y_test = train_test_split(X, y)"
   ]
  },
  {
   "cell_type": "code",
   "execution_count": 4,
   "metadata": {},
   "outputs": [
    {
     "name": "stdout",
     "output_type": "stream",
     "text": [
      "R2　:　0.895\n",
      "MAE : 2.178\n"
     ]
    }
   ],
   "source": [
    "# 全部の特徴量で学習\n",
    "RF = RandomForestRegressor(random_state=RANDOM_STATE)\n",
    "RF.fit(X_train, y_train)\n",
    "\n",
    "# 予測\n",
    "pred_RF = RF.predict(X_test)\n",
    "\n",
    "# 評価\n",
    "# 決定係数(R2)\n",
    "r2_RF = r2_score(y_test, pred_RF)\n",
    "\n",
    "# 平均絶対誤差(MAE)\n",
    "mae_RF = mean_absolute_error(y_test, pred_RF)\n",
    "\n",
    "print(\"R2　:　%.3f\" % r2_RF)\n",
    "print(\"MAE : %.3f\" % mae_RF)"
   ]
  },
  {
   "cell_type": "code",
   "execution_count": 5,
   "metadata": {},
   "outputs": [
    {
     "name": "stdout",
     "output_type": "stream",
     "text": [
      "Iteration: \t1 / 100\n",
      "Confirmed: \t0\n",
      "Tentative: \t13\n",
      "Rejected: \t0\n",
      "Iteration: \t2 / 100\n",
      "Confirmed: \t0\n",
      "Tentative: \t13\n",
      "Rejected: \t0\n",
      "Iteration: \t3 / 100\n",
      "Confirmed: \t0\n",
      "Tentative: \t13\n",
      "Rejected: \t0\n",
      "Iteration: \t4 / 100\n",
      "Confirmed: \t0\n",
      "Tentative: \t13\n",
      "Rejected: \t0\n",
      "Iteration: \t5 / 100\n",
      "Confirmed: \t0\n",
      "Tentative: \t13\n",
      "Rejected: \t0\n",
      "Iteration: \t6 / 100\n",
      "Confirmed: \t0\n",
      "Tentative: \t13\n",
      "Rejected: \t0\n",
      "Iteration: \t7 / 100\n",
      "Confirmed: \t0\n",
      "Tentative: \t13\n",
      "Rejected: \t0\n",
      "Iteration: \t8 / 100\n",
      "Confirmed: \t8\n",
      "Tentative: \t1\n",
      "Rejected: \t4\n",
      "Iteration: \t9 / 100\n",
      "Confirmed: \t8\n",
      "Tentative: \t1\n",
      "Rejected: \t4\n",
      "Iteration: \t10 / 100\n",
      "Confirmed: \t8\n",
      "Tentative: \t1\n",
      "Rejected: \t4\n",
      "Iteration: \t11 / 100\n",
      "Confirmed: \t8\n",
      "Tentative: \t1\n",
      "Rejected: \t4\n",
      "Iteration: \t12 / 100\n",
      "Confirmed: \t9\n",
      "Tentative: \t0\n",
      "Rejected: \t4\n",
      "\n",
      "\n",
      "BorutaPy finished running.\n",
      "\n",
      "Iteration: \t13 / 100\n",
      "Confirmed: \t9\n",
      "Tentative: \t0\n",
      "Rejected: \t4\n",
      "選択された特徴量の数: 9\n",
      "[ True False False False  True  True  True  True False  True  True  True\n",
      "  True]\n",
      "Index(['CRIM', 'NOX', 'RM', 'AGE', 'DIS', 'TAX', 'PTRATIO', 'B', 'LSTAT'], dtype='object')\n"
     ]
    }
   ],
   "source": [
    "# RandomForestRegressorでBorutaを実行\n",
    "RF1 = RandomForestRegressor(random_state=RANDOM_STATE)\n",
    "feat_selector = BorutaPy(RF1, n_estimators=\"auto\", verbose=2, random_state=1)\n",
    "feat_selector.fit(X_train.values, y_train.values)\n",
    "\n",
    "# 選択された特徴量を確認\n",
    "selected = feat_selector.support_\n",
    "print(\"選択された特徴量の数: %d\" % np.sum(selected))\n",
    "print(selected)\n",
    "print(X.columns[selected])"
   ]
  },
  {
   "cell_type": "code",
   "execution_count": 6,
   "metadata": {},
   "outputs": [
    {
     "name": "stdout",
     "output_type": "stream",
     "text": [
      "R2　:　0.900\n",
      "MAE : 2.149\n"
     ]
    }
   ],
   "source": [
    "# 選択した特徴量で学習\n",
    "X_train_selected = X_train[X.columns[selected]]\n",
    "X_test_selected = X_test[X.columns[selected]]\n",
    "RF2 = RandomForestRegressor(random_state=RANDOM_STATE)\n",
    "RF2.fit(X_train_selected, y_train)\n",
    "\n",
    "# 予測\n",
    "pred_RF_boruta = RF2.predict(X_test_selected)\n",
    "\n",
    "# 評価\n",
    "# 決定係数(R2)\n",
    "r2_RF_boruta = r2_score(y_test, pred_RF_boruta)\n",
    "\n",
    "# 平均絶対誤差(MAE)\n",
    "mae_RF_boruta = mean_absolute_error(y_test, pred_RF_boruta)\n",
    "\n",
    "print(\"R2　:　%.3f\" % r2_RF_boruta)\n",
    "print(\"MAE : %.3f\" % mae_RF_boruta)"
   ]
  },
  {
   "cell_type": "code",
   "execution_count": null,
   "metadata": {},
   "outputs": [],
   "source": []
  }
 ],
 "metadata": {
  "kernelspec": {
   "display_name": "Python 3",
   "language": "python",
   "name": "python3"
  },
  "language_info": {
   "codemirror_mode": {
    "name": "ipython",
    "version": 3
   },
   "file_extension": ".py",
   "mimetype": "text/x-python",
   "name": "python",
   "nbconvert_exporter": "python",
   "pygments_lexer": "ipython3",
   "version": "3.8.8"
  }
 },
 "nbformat": 4,
 "nbformat_minor": 4
}
