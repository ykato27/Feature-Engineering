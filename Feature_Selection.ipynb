{
  "nbformat": 4,
  "nbformat_minor": 0,
  "metadata": {
    "colab": {
      "name": "Feature_Selection.ipynb",
      "provenance": [],
      "authorship_tag": "ABX9TyNOiEIuQSGT+FV86EBcN5lB",
      "include_colab_link": true
    },
    "kernelspec": {
      "name": "python3",
      "display_name": "Python 3"
    }
  },
  "cells": [
    {
      "cell_type": "markdown",
      "metadata": {
        "id": "view-in-github",
        "colab_type": "text"
      },
      "source": [
        "<a href=\"https://colab.research.google.com/github/ykato27/Feature_Selection/blob/main/Feature_Selection.ipynb\" target=\"_parent\"><img src=\"https://colab.research.google.com/assets/colab-badge.svg\" alt=\"Open In Colab\"/></a>"
      ]
    },
    {
      "cell_type": "markdown",
      "metadata": {
        "id": "6fs01C9HsHJj"
      },
      "source": [
        "#変数選択"
      ]
    },
    {
      "cell_type": "markdown",
      "metadata": {
        "id": "BkKoT4FPmNOb"
      },
      "source": [
        "##RFE(Recursive Feature Elimination; 再帰的特徴量削減)"
      ]
    },
    {
      "cell_type": "code",
      "metadata": {
        "id": "wEtKNBhol5dc"
      },
      "source": [
        "import pandas as pd\n",
        "import numpy as np\n",
        "from sklearn.datasets import load_boston\n",
        "from sklearn.feature_selection import RFE\n",
        "from sklearn.ensemble import GradientBoostingRegressor"
      ],
      "execution_count": null,
      "outputs": []
    },
    {
      "cell_type": "code",
      "metadata": {
        "id": "hJjyp7awmjn2"
      },
      "source": [
        "# データセットの読込み\n",
        "boston = load_boston()\n",
        "\n",
        "# データフレームの作成\n",
        "# 説明変数の格納\n",
        "df = pd.DataFrame(boston.data, columns = boston.feature_names)\n",
        "\n",
        "# 目的変数の追加\n",
        "df['MEDV'] = boston.target"
      ],
      "execution_count": null,
      "outputs": []
    },
    {
      "cell_type": "code",
      "metadata": {
        "colab": {
          "base_uri": "https://localhost:8080/"
        },
        "id": "rXhCkDs5mxk9",
        "outputId": "c2f0d265-0a4b-4874-cd57-86dab58dd5df"
      },
      "source": [
        "# estimator として GBDTを使用。特徴量を5個選択\n",
        "selector = RFE(GradientBoostingRegressor(n_estimators=100, random_state=10), n_features_to_select=5)\n",
        "selector.fit(df.iloc[:, 0:13], df.iloc[:, 13])\n",
        "mask = selector.get_support()\n",
        "print(boston.feature_names)\n",
        "print(mask)\n",
        "\n",
        "# 選択した特徴量の列のみ取得\n",
        "X_selected = selector.transform(df.iloc[:, 0:13])\n",
        "print(\"X.shape={}, X_selected.shape={}\".format(df.iloc[:, 0:13].shape, X_selected.shape))"
      ],
      "execution_count": null,
      "outputs": [
        {
          "output_type": "stream",
          "text": [
            "['CRIM' 'ZN' 'INDUS' 'CHAS' 'NOX' 'RM' 'AGE' 'DIS' 'RAD' 'TAX' 'PTRATIO'\n",
            " 'B' 'LSTAT']\n",
            "[False False False False  True  True False  True False False  True False\n",
            "  True]\n",
            "X.shape=(506, 13), X_selected.shape=(506, 5)\n"
          ],
          "name": "stdout"
        }
      ]
    },
    {
      "cell_type": "markdown",
      "metadata": {
        "id": "sPlO2R83ozVN"
      },
      "source": [
        "##モデルベース特徴量選択\n",
        "SelectFromModel"
      ]
    },
    {
      "cell_type": "code",
      "metadata": {
        "colab": {
          "base_uri": "https://localhost:8080/"
        },
        "id": "cEhXML58nT3C",
        "outputId": "3a0b642d-b9e6-4db2-bc8d-91ea009950e9"
      },
      "source": [
        "from sklearn.feature_selection import SelectFromModel\n",
        "\n",
        "# estimator として GBDTを使用。\n",
        "selector = SelectFromModel(GradientBoostingRegressor(n_estimators=100, random_state=10), threshold=\"median\")    \n",
        "selector.fit(df.iloc[:, 0:13], df.iloc[:, 13])\n",
        "mask = selector.get_support()\n",
        "print(boston.feature_names)\n",
        "print(mask)\n",
        "\n",
        "# 選択した特徴量の列のみ取得\n",
        "X_selected = selector.transform(df.iloc[:, 0:13])\n",
        "print(\"X.shape={}, X_selected.shape={}\".format(df.iloc[:, 0:13].shape, X_selected.shape))"
      ],
      "execution_count": null,
      "outputs": [
        {
          "output_type": "stream",
          "text": [
            "['CRIM' 'ZN' 'INDUS' 'CHAS' 'NOX' 'RM' 'AGE' 'DIS' 'RAD' 'TAX' 'PTRATIO'\n",
            " 'B' 'LSTAT']\n",
            "[ True False False False  True  True False  True False False  True  True\n",
            "  True]\n",
            "X.shape=(506, 13), X_selected.shape=(506, 7)\n"
          ],
          "name": "stdout"
        }
      ]
    },
    {
      "cell_type": "markdown",
      "metadata": {
        "id": "1vhW4PyfpwL_"
      },
      "source": [
        "##SelectKBest\n",
        "説明変数のうち上位k個を選択"
      ]
    },
    {
      "cell_type": "code",
      "metadata": {
        "colab": {
          "base_uri": "https://localhost:8080/"
        },
        "id": "KvgY7PNGoeal",
        "outputId": "fe1d10b5-a2b9-4d5e-d20f-3044f5f29dae"
      },
      "source": [
        "from sklearn.feature_selection import SelectKBest, f_regression\n",
        "\n",
        "# 5つの特徴量を選択\n",
        "selector = SelectKBest(score_func=f_regression, k=5) \n",
        "selector.fit(df.iloc[:, 0:13], df.iloc[:, 13])\n",
        "mask = selector.get_support()    # 各特徴量を選択したか否かのmaskを取得\n",
        "print(boston.feature_names)\n",
        "print(mask)\n",
        "\n",
        "# 選択した特徴量の列のみ取得\n",
        "X_selected = selector.transform(df.iloc[:, 0:13])\n",
        "print(\"X.shape={}, X_selected.shape={}\".format(df.iloc[:, 0:13].shape, X_selected.shape))"
      ],
      "execution_count": null,
      "outputs": [
        {
          "output_type": "stream",
          "text": [
            "['CRIM' 'ZN' 'INDUS' 'CHAS' 'NOX' 'RM' 'AGE' 'DIS' 'RAD' 'TAX' 'PTRATIO'\n",
            " 'B' 'LSTAT']\n",
            "[False False  True False False  True False False False  True  True False\n",
            "  True]\n",
            "X.shape=(506, 13), X_selected.shape=(506, 5)\n"
          ],
          "name": "stdout"
        }
      ]
    },
    {
      "cell_type": "markdown",
      "metadata": {
        "id": "siCso-hPque7"
      },
      "source": [
        "##SelectPercentile\n",
        "説明変数のうち上位k%を選択"
      ]
    },
    {
      "cell_type": "code",
      "metadata": {
        "colab": {
          "base_uri": "https://localhost:8080/"
        },
        "id": "YoU7j2GQp_j1",
        "outputId": "cb9b0534-a820-4578-82a0-7fbd105f00c9"
      },
      "source": [
        "from sklearn.feature_selection import SelectPercentile, f_regression\n",
        "\n",
        "# 特徴量のうち50%を選択\n",
        "selector = SelectPercentile(score_func=f_regression, percentile=50) \n",
        "selector.fit(df.iloc[:, 0:13], df.iloc[:, 13])\n",
        "mask = selector.get_support()\n",
        "print(boston.feature_names)\n",
        "print(mask)\n",
        "\n",
        "# 選択した特徴量の列のみ取得\n",
        "X_selected = selector.transform(df.iloc[:, 0:13])\n",
        "print(\"X.shape={}, X_selected.shape={}\".format(df.iloc[:, 0:13].shape, X_selected.shape))"
      ],
      "execution_count": null,
      "outputs": [
        {
          "output_type": "stream",
          "text": [
            "['CRIM' 'ZN' 'INDUS' 'CHAS' 'NOX' 'RM' 'AGE' 'DIS' 'RAD' 'TAX' 'PTRATIO'\n",
            " 'B' 'LSTAT']\n",
            "[False False  True False  True  True False False False  True  True False\n",
            "  True]\n",
            "X.shape=(506, 13), X_selected.shape=(506, 6)\n"
          ],
          "name": "stdout"
        }
      ]
    },
    {
      "cell_type": "code",
      "metadata": {
        "id": "qg6FkimzrDQo"
      },
      "source": [
        ""
      ],
      "execution_count": null,
      "outputs": []
    }
  ]
}